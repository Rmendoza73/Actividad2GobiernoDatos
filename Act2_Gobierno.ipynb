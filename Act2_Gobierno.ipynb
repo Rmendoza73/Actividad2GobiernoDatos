{
  "nbformat": 4,
  "nbformat_minor": 0,
  "metadata": {
    "colab": {
      "provenance": []
    },
    "kernelspec": {
      "name": "python3",
      "display_name": "Python 3"
    },
    "language_info": {
      "name": "python"
    }
  },
  "cells": [
    {
      "cell_type": "code",
      "source": [
        "import pandas as pd\n",
        "import csv\n",
        "from sklearn.model_selection import train_test_split\n",
        "from sklearn.linear_model import LogisticRegression\n",
        "from sklearn.metrics import confusion_matrix, classification_report\n",
        "import matplotlib.pyplot as plt\n",
        "\n",
        "# Cargar los datos\n",
        "data = pd.read_csv('actividad2.csv', sep=';')"
      ],
      "metadata": {
        "id": "AjE-a20FfIrk"
      },
      "execution_count": 39,
      "outputs": []
    },
    {
      "cell_type": "code",
      "source": [
        "# Seleccionar variables predictoras y la variable objetivo\n",
        "predictors = ['Education', 'Occupation', 'Gender', 'MaritalStatus', 'YearlyIncome']\n",
        "target = 'BikeBuyer'\n",
        "\n",
        "# Filtrar las columnas necesarias\n",
        "data_filtered = data[predictors + [target]]\n",
        "\n",
        "# Convertir variables categóricas en variables dummy\n",
        "data_filtered = pd.get_dummies(data_filtered)\n",
        "\n",
        "# Dividir los datos en conjuntos de entrenamiento y prueba\n",
        "X_train, X_test, y_train, y_test = train_test_split(data_filtered.drop(target, axis=1),\n",
        "                                                    data_filtered[target],\n",
        "                                                    test_size=0.2,\n",
        "                                                    random_state=42)\n",
        "\n",
        "# Inicializar y entrenar el modelo de regresión logística\n",
        "model = LogisticRegression()\n",
        "model.fit(X_train, y_train)\n",
        "\n",
        "# Realizar predicciones en el conjunto de prueba\n",
        "y_pred = model.predict(X_test)"
      ],
      "metadata": {
        "id": "t3FCjUfkfNHM"
      },
      "execution_count": 41,
      "outputs": []
    },
    {
      "cell_type": "code",
      "source": [
        "print(X_train,)"
      ],
      "metadata": {
        "id": "gqCaAARQAGCs"
      },
      "execution_count": null,
      "outputs": []
    },
    {
      "cell_type": "code",
      "source": [
        "print(X_train.iloc[[0]])\n",
        "print(X_train.columns)"
      ],
      "metadata": {
        "id": "8eccnwseAsyw"
      },
      "execution_count": null,
      "outputs": []
    },
    {
      "cell_type": "code",
      "source": [
        "# Evaluar el rendimiento del modelo\n",
        "print(\"Matriz de Confusión:\")\n",
        "conf_matrix = confusion_matrix(y_test, y_pred)\n",
        "print(conf_matrix)\n",
        "\n",
        "# Visualizar la matriz de confusión\n",
        "plt.imshow(conf_matrix, cmap='Blues', interpolation='nearest')\n",
        "plt.colorbar()\n",
        "plt.title('Matriz de Confusión')\n",
        "plt.xlabel('Etiqueta Predicha')\n",
        "plt.ylabel('Etiqueta Real')\n",
        "plt.show()"
      ],
      "metadata": {
        "colab": {
          "base_uri": "https://localhost:8080/",
          "height": 524
        },
        "id": "diFQfW-0fX4s",
        "outputId": "419ccd17-1ea6-4992-d915-536e060b1947"
      },
      "execution_count": 42,
      "outputs": [
        {
          "output_type": "stream",
          "name": "stdout",
          "text": [
            "Matriz de Confusión:\n",
            "[[   0 1675]\n",
            " [   0 1996]]\n"
          ]
        },
        {
          "output_type": "display_data",
          "data": {
            "text/plain": [
              "<Figure size 640x480 with 2 Axes>"
            ],
            "image/png": "[encoded data removed]"
          },
          "metadata": {}
        }
      ]
    },
    {
      "cell_type": "code",
      "execution_count": 43,
      "metadata": {
        "colab": {
          "base_uri": "https://localhost:8080/"
        },
        "id": "VFkjcU5xaIQA",
        "outputId": "7f4b07fa-d648-4343-a64f-7cc596d34976"
      },
      "outputs": [
        {
          "output_type": "stream",
          "name": "stdout",
          "text": [
            "\n",
            "Reporte de Clasificación:\n",
            "              precision    recall  f1-score   support\n",
            "\n",
            "           0       0.00      0.00      0.00      1675\n",
            "           1       0.54      1.00      0.70      1996\n",
            "\n",
            "    accuracy                           0.54      3671\n",
            "   macro avg       0.27      0.50      0.35      3671\n",
            "weighted avg       0.30      0.54      0.38      3671\n",
            "\n"
          ]
        },
        {
          "output_type": "stream",
          "name": "stderr",
          "text": [
            "/usr/local/lib/python3.10/dist-packages/sklearn/metrics/_classification.py:1344: UndefinedMetricWarning: Precision and F-score are ill-defined and being set to 0.0 in labels with no predicted samples. Use `zero_division` parameter to control this behavior.\n",
            "  _warn_prf(average, modifier, msg_start, len(result))\n",
            "/usr/local/lib/python3.10/dist-packages/sklearn/metrics/_classification.py:1344: UndefinedMetricWarning: Precision and F-score are ill-defined and being set to 0.0 in labels with no predicted samples. Use `zero_division` parameter to control this behavior.\n",
            "  _warn_prf(average, modifier, msg_start, len(result))\n",
            "/usr/local/lib/python3.10/dist-packages/sklearn/metrics/_classification.py:1344: UndefinedMetricWarning: Precision and F-score are ill-defined and being set to 0.0 in labels with no predicted samples. Use `zero_division` parameter to control this behavior.\n",
            "  _warn_prf(average, modifier, msg_start, len(result))\n"
          ]
        }
      ],
      "source": [
        "# Mostrar el reporte de clasificación\n",
        "print(\"\\nReporte de Clasificación:\")\n",
        "print(classification_report(y_test, y_pred))\n",
        "\n",
        "\n"
      ]
    },
    {
      "cell_type": "code",
      "source": [
        "# Hacer una predicción con el modelo estimado (ejemplo)\n",
        "new_data = pd.DataFrame({'Education': ['Bachelors'],\n",
        "                         'Occupation': ['Management'],\n",
        "                         'Gender': ['M'],\n",
        "                         'MaritalStatus': ['S'],\n",
        "                         'YearlyIncome': [84340]\n",
        "\n",
        "                         })\n",
        "\n",
        "\n",
        "new_data_encoded = pd.get_dummies(new_data)\n",
        "print(model.feature_names_in_)\n",
        "print(new_data_encoded.columns)\n",
        "print(new_data.columns)\n",
        "print(data_filtered.columns)\n",
        "prediction = model.predict(new_data_encoded)\n",
        "\n",
        "print(\"\\nPredicción para el nuevo cliente:\", prediction)"
      ],
      "metadata": {
        "id": "xy6eY2YTfgDd"
      },
      "execution_count": null,
      "outputs": []
    },
    {
      "cell_type": "code",
      "source": [
        "# Crear un DataFrame con las mismas columnas que X_train\n",
        "new_data1 = pd.DataFrame(columns=X_train.columns, data=[[0]*len(X_train.columns)])\n",
        "\n",
        "# Asignar los valores de las características para el nuevo cliente\n",
        "new_data1['Education_Bachelors'] = 1  # Por ejemplo, si el nuevo cliente tiene educación de Bachelors\n",
        "new_data1['Occupation_Management'] = 1  # Por ejemplo, si el nuevo cliente tiene ocupación de Management\n",
        "new_data1['Gender_M'] = 1  # Por ejemplo, si el nuevo cliente es de género masculino\n",
        "new_data1['MaritalStatus_S'] = 1  # Por ejemplo, si el nuevo cliente tiene estado civil soltero\n",
        "new_data1['YearlyIncome'] = 80000  # Por ejemplo, si el nuevo cliente tiene un ingreso anual de 80000\n",
        "\n",
        "# Realizar la predicción con el modelo estimado\n",
        "prediction = model.predict(new_data1)\n",
        "print(\"\\nPredicción para el nuevo cliente:\", prediction)\n"
      ],
      "metadata": {
        "id": "g2hqeGc3ki3F"
      },
      "execution_count": null,
      "outputs": []
    }
  ]
}