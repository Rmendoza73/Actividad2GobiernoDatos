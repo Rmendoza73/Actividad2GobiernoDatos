{
  "nbformat": 4,
  "nbformat_minor": 0,
  "metadata": {
    "colab": {
      "provenance": []
    },
    "kernelspec": {
      "name": "python3",
      "display_name": "Python 3"
    },
    "language_info": {
      "name": "python"
    }
  },
  "cells": [
    {
      "cell_type": "code",
      "source": [
        "import pandas as pd\n",
        "import csv\n",
        "from sklearn.model_selection import train_test_split\n",
        "from sklearn.linear_model import LogisticRegression\n",
        "from sklearn.metrics import confusion_matrix, classification_report\n",
        "import matplotlib.pyplot as plt\n",
        "\n",
        "data = pd.read_csv('actividad2.csv', sep=';')"
      ],
      "metadata": {
        "id": "AjE-a20FfIrk"
      },
      "execution_count": 10,
      "outputs": []
    },
    {
      "cell_type": "code",
      "source": [
        "# Seleccion de variables predictoras y la variable objetivo\n",
        "predictors = ['Education', 'Occupation', 'Gender', 'MaritalStatus', 'TotalChildren']\n",
        "target = 'BikeBuyer'\n",
        "\n",
        "data_filtered = data[predictors + [target]]\n",
        "\n",
        "data_filtered = pd.get_dummies(data_filtered)\n",
        "\n",
        "X_train, X_test, y_train, y_test = train_test_split(data_filtered.drop(target, axis=1),\n",
        "                                                    data_filtered[target],\n",
        "                                                    test_size=0.2,\n",
        "                                                    random_state=42)\n",
        "\n",
        "# Inicialización y entrenamiento del modelo de regresión logística\n",
        "model = LogisticRegression()\n",
        "model.fit(X_train, y_train)\n",
        "\n",
        "# Ejecución de predicciones\n",
        "y_pred = model.predict(X_test)"
      ],
      "metadata": {
        "id": "t3FCjUfkfNHM"
      },
      "execution_count": 46,
      "outputs": []
    },
    {
      "cell_type": "code",
      "source": [
        "print(X_train,)"
      ],
      "metadata": {
        "id": "gqCaAARQAGCs"
      },
      "execution_count": null,
      "outputs": []
    },
    {
      "cell_type": "code",
      "source": [
        "print(X_train.iloc[[0]])\n",
        "print(X_train.columns)"
      ],
      "metadata": {
        "id": "8eccnwseAsyw"
      },
      "execution_count": null,
      "outputs": []
    },
    {
      "cell_type": "code",
      "source": [
        "\n",
        "print(\"Matriz de Confusión:\")\n",
        "conf_matrix = confusion_matrix(y_test, y_pred)\n",
        "print(conf_matrix)\n",
        "\n",
        "\n",
        "plt.imshow(conf_matrix, cmap='Blues', interpolation='nearest')\n",
        "plt.colorbar()\n",
        "plt.title('Matriz de Confusión')\n",
        "plt.xlabel('Etiqueta Predicha')\n",
        "plt.ylabel('Etiqueta Real')\n",
        "plt.show()"
      ],
      "metadata": {
        "colab": {
          "base_uri": "https://localhost:8080/",
          "height": 524
        },
        "id": "diFQfW-0fX4s",
        "outputId": "54b448ed-f37b-414a-c938-3e7d252305d4"
      },
      "execution_count": 47,
      "outputs": [
        {
          "output_type": "stream",
          "name": "stdout",
          "text": [
            "Matriz de Confusión:\n",
            "[[ 913  762]\n",
            " [ 450 1546]]\n"
          ]
        },
        {
          "output_type": "display_data",
          "data": {
            "text/plain": [
              "<Figure size 640x480 with 2 Axes>"
            ],
            "image/png": "[encoded data removed]"
          },
          "metadata": {}
        }
      ]
    },
    {
      "cell_type": "code",
      "execution_count": 48,
      "metadata": {
        "colab": {
          "base_uri": "https://localhost:8080/"
        },
        "id": "VFkjcU5xaIQA",
        "outputId": "4665559c-8c6d-4f1c-d0ec-21e5740d227a"
      },
      "outputs": [
        {
          "output_type": "stream",
          "name": "stdout",
          "text": [
            "\n",
            "Reporte de Clasificación:\n",
            "              precision    recall  f1-score   support\n",
            "\n",
            "           0       0.67      0.55      0.60      1675\n",
            "           1       0.67      0.77      0.72      1996\n",
            "\n",
            "    accuracy                           0.67      3671\n",
            "   macro avg       0.67      0.66      0.66      3671\n",
            "weighted avg       0.67      0.67      0.66      3671\n",
            "\n"
          ]
        }
      ],
      "source": [
        "# Reporte de clasificación\n",
        "print(\"\\nReporte de Clasificación:\")\n",
        "print(classification_report(y_test, y_pred))\n",
        "\n",
        "\n"
      ]
    },
    {
      "cell_type": "code",
      "source": [
        "# Prediccón 1\n",
        "new_data1 = pd.DataFrame(columns=X_train.columns, data=[[0]*len(X_train.columns)])\n",
        "\n",
        "new_data1['Education_Bachelors'] = 1\n",
        "new_data1['Occupation_Management'] = 1\n",
        "new_data1['Gender_M'] = 1\n",
        "new_data1['MaritalStatus_S'] = 1\n",
        "new_data1['TotalChildren'] =  2\n",
        "\n",
        "prediction = model.predict(new_data1)\n",
        "print(\"\\nPredicción para el nuevo cliente:\", prediction)\n"
      ],
      "metadata": {
        "colab": {
          "base_uri": "https://localhost:8080/"
        },
        "id": "g2hqeGc3ki3F",
        "outputId": "5a3e05d4-2438-406b-acd3-b874fc0138ab"
      },
      "execution_count": 49,
      "outputs": [
        {
          "output_type": "stream",
          "name": "stdout",
          "text": [
            "\n",
            "Predicción para el nuevo cliente: [1]\n"
          ]
        }
      ]
    },
    {
      "cell_type": "code",
      "source": [
        "# Prediccón 2\n",
        "new_data1 = pd.DataFrame(columns=X_train.columns, data=[[0]*len(X_train.columns)])\n",
        "\n",
        "new_data1['Education_Partial College'] = 1\n",
        "new_data1['Occupation_Skilled Manual'] = 1\n",
        "new_data1['Gender_F'] = 1\n",
        "new_data1['MaritalStatus_S'] = 1\n",
        "new_data1['TotalChildren'] =  0\n",
        "\n",
        "\n",
        "\n",
        "prediction = model.predict(new_data1)\n",
        "print(\"\\nPredicción para el nuevo cliente:\", prediction)"
      ],
      "metadata": {
        "colab": {
          "base_uri": "https://localhost:8080/"
        },
        "id": "YNIDvr-oadgA",
        "outputId": "fdb14dc1-8fcf-4a71-fe08-4097ff5d9468"
      },
      "execution_count": 50,
      "outputs": [
        {
          "output_type": "stream",
          "name": "stdout",
          "text": [
            "\n",
            "Predicción para el nuevo cliente: [0]\n"
          ]
        }
      ]
    }
  ]
}